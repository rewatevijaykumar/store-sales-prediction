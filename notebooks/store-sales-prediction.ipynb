{
 "cells": [
  {
   "cell_type": "markdown",
   "metadata": {},
   "source": [
    "# Big Mart Stores Sales Prediction"
   ]
  },
  {
   "attachments": {},
   "cell_type": "markdown",
   "metadata": {},
   "source": [
    "## Problem Statement:\n",
    "\n",
    "#### Data: Big Mart Data\n",
    "\n",
    "- Nowadays, shopping malls and Big Marts keep track of individual item sales data in order to forecast future client demand and adjust inventory management. \n",
    "- In a data warehouse, these data stores hold a significant amount of consumer information and particular item details. \n",
    "- By mining the data store from the data warehouse, more anomalies and common patterns can be discovered.\n",
    "\n",
    "#### Solution:\n",
    " - To build a solution that should able to predict the sales of the different stores of Big Mart\n",
    " - Using classical machine learning tasks like Data Exploration, Data Cleaning, Feature Engineering, Model Building and Model Testing.\n",
    " - Try out different machine learning algorithms that’s best fit for the above case.\n",
    "\n",
    "#### Details about Data:\n",
    "- We have train (8523) and test (5681) data set, train data set has both input and output variable(s). \n",
    "- We need to predict the sales for test data set.\n",
    "\n",
    "    - Item_Identifier: Unique product ID\n",
    "    - Item_Weight: Weight of product\n",
    "    - Item_Fat_Content: Whether the product is low fat or not\n",
    "    - Item_Visibility: The % of total display area of all products in a store allocated to the particular product\n",
    "    - Item_Type: The category to which the product belongs\n",
    "    - Item_MRP: Maximum Retail Price (list price) of the product\n",
    "    - Outlet_Identifier: Unique store ID\n",
    "    - Outlet_Establishment_Year: The year in which store was established\n",
    "    - Outlet_Size: The size of the store in terms of ground area covered\n",
    "    - Outlet_Location_Type: The type of city in which the store is located\n",
    "    - Outlet_Type: Whether the outlet is just a grocery store or some sort of supermarket\n",
    "    - Item_Outlet_Sales: Sales of the product in the particulat store. This is the outcome variable to be predicted."
   ]
  },
  {
   "attachments": {},
   "cell_type": "markdown",
   "metadata": {},
   "source": [
    "### Import libraries"
   ]
  },
  {
   "cell_type": "code",
   "execution_count": null,
   "metadata": {},
   "outputs": [],
   "source": [
    "import pandas as pd\n",
    "import numpy as np\n",
    "import seaborn as sns\n",
    "import matplotlib.pyplot as plt\n",
    "import warnings\n",
    "warnings.filterwarnings(\"ignore\")"
   ]
  },
  {
   "cell_type": "code",
   "execution_count": null,
   "metadata": {},
   "outputs": [],
   "source": [
    "df = pd.read_csv('notebooks\\Train.csv')"
   ]
  },
  {
   "cell_type": "markdown",
   "metadata": {},
   "source": []
  }
 ],
 "metadata": {
  "kernelspec": {
   "display_name": "Python 3",
   "language": "python",
   "name": "python3"
  },
  "language_info": {
   "name": "python",
   "version": "3.8.0"
  },
  "orig_nbformat": 4
 },
 "nbformat": 4,
 "nbformat_minor": 2
}
